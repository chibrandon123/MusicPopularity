{
 "cells": [
  {
   "cell_type": "code",
   "execution_count": 1,
   "id": "6b6d10e9-5052-45bd-87e6-10fce4e784fa",
   "metadata": {},
   "outputs": [],
   "source": [
    "import pandas as pd\n",
    "from sklearn.linear_model import LinearRegression\n",
    "import matplotlib.pyplot as plt"
   ]
  },
  {
   "cell_type": "code",
   "execution_count": 3,
   "id": "75048f11-0527-473b-ab05-ac964c759d07",
   "metadata": {},
   "outputs": [],
   "source": [
    "musicDF=pd.read_csv('music.csv')"
   ]
  },
  {
   "cell_type": "code",
   "execution_count": 4,
   "id": "504ec72f-e7ff-4018-b285-fd4b4630aa3a",
   "metadata": {},
   "outputs": [
    {
     "name": "stdout",
     "output_type": "stream",
     "text": [
      "Dimensions of the dataframe\n"
     ]
    },
    {
     "data": {
      "text/plain": [
       "(10000, 35)"
      ]
     },
     "execution_count": 4,
     "metadata": {},
     "output_type": "execute_result"
    }
   ],
   "source": [
    "print(\"Dimensions of the dataframe\")\n",
    "musicDF.shape"
   ]
  },
  {
   "cell_type": "code",
   "execution_count": 5,
   "id": "a7a1995d-700a-4538-9860-e0b4980a2fca",
   "metadata": {},
   "outputs": [
    {
     "name": "stdout",
     "output_type": "stream",
     "text": [
      "First 5 rows: \n"
     ]
    },
    {
     "data": {
      "text/html": [
       "<div>\n",
       "<style scoped>\n",
       "    .dataframe tbody tr th:only-of-type {\n",
       "        vertical-align: middle;\n",
       "    }\n",
       "\n",
       "    .dataframe tbody tr th {\n",
       "        vertical-align: top;\n",
       "    }\n",
       "\n",
       "    .dataframe thead th {\n",
       "        text-align: right;\n",
       "    }\n",
       "</style>\n",
       "<table border=\"1\" class=\"dataframe\">\n",
       "  <thead>\n",
       "    <tr style=\"text-align: right;\">\n",
       "      <th></th>\n",
       "      <th>artist.familiarity</th>\n",
       "      <th>artist.hotttnesss</th>\n",
       "      <th>artist.id</th>\n",
       "      <th>artist.latitude</th>\n",
       "      <th>artist.location</th>\n",
       "      <th>artist.longitude</th>\n",
       "      <th>artist.name</th>\n",
       "      <th>artist.similar</th>\n",
       "      <th>artist.terms</th>\n",
       "      <th>artist.terms_freq</th>\n",
       "      <th>...</th>\n",
       "      <th>song.mode</th>\n",
       "      <th>song.mode_confidence</th>\n",
       "      <th>song.start_of_fade_out</th>\n",
       "      <th>song.tatums_confidence</th>\n",
       "      <th>song.tatums_start</th>\n",
       "      <th>song.tempo</th>\n",
       "      <th>song.time_signature</th>\n",
       "      <th>song.time_signature_confidence</th>\n",
       "      <th>song.title</th>\n",
       "      <th>song.year</th>\n",
       "    </tr>\n",
       "  </thead>\n",
       "  <tbody>\n",
       "    <tr>\n",
       "      <th>0</th>\n",
       "      <td>0.581794</td>\n",
       "      <td>0.401998</td>\n",
       "      <td>ARD7TVE1187B99BFB1</td>\n",
       "      <td>0.00000</td>\n",
       "      <td>0</td>\n",
       "      <td>0.00000</td>\n",
       "      <td>Casual</td>\n",
       "      <td>0.0</td>\n",
       "      <td>hip hop</td>\n",
       "      <td>1.000000</td>\n",
       "      <td>...</td>\n",
       "      <td>0</td>\n",
       "      <td>0.636</td>\n",
       "      <td>218.932</td>\n",
       "      <td>0.779</td>\n",
       "      <td>0.28519</td>\n",
       "      <td>92.198</td>\n",
       "      <td>4.0</td>\n",
       "      <td>0.778</td>\n",
       "      <td>0</td>\n",
       "      <td>0</td>\n",
       "    </tr>\n",
       "    <tr>\n",
       "      <th>1</th>\n",
       "      <td>0.630630</td>\n",
       "      <td>0.417500</td>\n",
       "      <td>ARMJAGH1187FB546F3</td>\n",
       "      <td>35.14968</td>\n",
       "      <td>0</td>\n",
       "      <td>-90.04892</td>\n",
       "      <td>The Box Tops</td>\n",
       "      <td>0.0</td>\n",
       "      <td>blue-eyed soul</td>\n",
       "      <td>1.000000</td>\n",
       "      <td>...</td>\n",
       "      <td>0</td>\n",
       "      <td>0.430</td>\n",
       "      <td>137.915</td>\n",
       "      <td>0.969</td>\n",
       "      <td>0.20627</td>\n",
       "      <td>121.274</td>\n",
       "      <td>4.0</td>\n",
       "      <td>0.384</td>\n",
       "      <td>0</td>\n",
       "      <td>1969</td>\n",
       "    </tr>\n",
       "    <tr>\n",
       "      <th>2</th>\n",
       "      <td>0.487357</td>\n",
       "      <td>0.343428</td>\n",
       "      <td>ARKRRTF1187B9984DA</td>\n",
       "      <td>0.00000</td>\n",
       "      <td>0</td>\n",
       "      <td>0.00000</td>\n",
       "      <td>Sonora Santanera</td>\n",
       "      <td>0.0</td>\n",
       "      <td>salsa</td>\n",
       "      <td>1.000000</td>\n",
       "      <td>...</td>\n",
       "      <td>1</td>\n",
       "      <td>0.565</td>\n",
       "      <td>172.304</td>\n",
       "      <td>0.482</td>\n",
       "      <td>0.42132</td>\n",
       "      <td>100.070</td>\n",
       "      <td>1.0</td>\n",
       "      <td>0.000</td>\n",
       "      <td>0</td>\n",
       "      <td>0</td>\n",
       "    </tr>\n",
       "    <tr>\n",
       "      <th>3</th>\n",
       "      <td>0.630382</td>\n",
       "      <td>0.454231</td>\n",
       "      <td>AR7G5I41187FB4CE6C</td>\n",
       "      <td>0.00000</td>\n",
       "      <td>0</td>\n",
       "      <td>0.00000</td>\n",
       "      <td>Adam Ant</td>\n",
       "      <td>0.0</td>\n",
       "      <td>pop rock</td>\n",
       "      <td>0.988584</td>\n",
       "      <td>...</td>\n",
       "      <td>1</td>\n",
       "      <td>0.749</td>\n",
       "      <td>217.124</td>\n",
       "      <td>0.601</td>\n",
       "      <td>0.56254</td>\n",
       "      <td>119.293</td>\n",
       "      <td>4.0</td>\n",
       "      <td>0.000</td>\n",
       "      <td>0</td>\n",
       "      <td>1982</td>\n",
       "    </tr>\n",
       "    <tr>\n",
       "      <th>4</th>\n",
       "      <td>0.651046</td>\n",
       "      <td>0.401724</td>\n",
       "      <td>ARXR32B1187FB57099</td>\n",
       "      <td>0.00000</td>\n",
       "      <td>0</td>\n",
       "      <td>0.00000</td>\n",
       "      <td>Gob</td>\n",
       "      <td>0.0</td>\n",
       "      <td>pop punk</td>\n",
       "      <td>0.887288</td>\n",
       "      <td>...</td>\n",
       "      <td>1</td>\n",
       "      <td>0.371</td>\n",
       "      <td>198.699</td>\n",
       "      <td>1.000</td>\n",
       "      <td>0.13576</td>\n",
       "      <td>129.738</td>\n",
       "      <td>4.0</td>\n",
       "      <td>0.562</td>\n",
       "      <td>0</td>\n",
       "      <td>2007</td>\n",
       "    </tr>\n",
       "  </tbody>\n",
       "</table>\n",
       "<p>5 rows × 35 columns</p>\n",
       "</div>"
      ],
      "text/plain": [
       "   artist.familiarity  artist.hotttnesss           artist.id  artist.latitude  \\\n",
       "0            0.581794           0.401998  ARD7TVE1187B99BFB1          0.00000   \n",
       "1            0.630630           0.417500  ARMJAGH1187FB546F3         35.14968   \n",
       "2            0.487357           0.343428  ARKRRTF1187B9984DA          0.00000   \n",
       "3            0.630382           0.454231  AR7G5I41187FB4CE6C          0.00000   \n",
       "4            0.651046           0.401724  ARXR32B1187FB57099          0.00000   \n",
       "\n",
       "   artist.location  artist.longitude       artist.name  artist.similar  \\\n",
       "0                0           0.00000            Casual             0.0   \n",
       "1                0         -90.04892      The Box Tops             0.0   \n",
       "2                0           0.00000  Sonora Santanera             0.0   \n",
       "3                0           0.00000          Adam Ant             0.0   \n",
       "4                0           0.00000               Gob             0.0   \n",
       "\n",
       "     artist.terms  artist.terms_freq  ...  song.mode  song.mode_confidence  \\\n",
       "0         hip hop           1.000000  ...          0                 0.636   \n",
       "1  blue-eyed soul           1.000000  ...          0                 0.430   \n",
       "2           salsa           1.000000  ...          1                 0.565   \n",
       "3        pop rock           0.988584  ...          1                 0.749   \n",
       "4        pop punk           0.887288  ...          1                 0.371   \n",
       "\n",
       "   song.start_of_fade_out  song.tatums_confidence  song.tatums_start  \\\n",
       "0                 218.932                   0.779            0.28519   \n",
       "1                 137.915                   0.969            0.20627   \n",
       "2                 172.304                   0.482            0.42132   \n",
       "3                 217.124                   0.601            0.56254   \n",
       "4                 198.699                   1.000            0.13576   \n",
       "\n",
       "   song.tempo  song.time_signature  song.time_signature_confidence  \\\n",
       "0      92.198                  4.0                           0.778   \n",
       "1     121.274                  4.0                           0.384   \n",
       "2     100.070                  1.0                           0.000   \n",
       "3     119.293                  4.0                           0.000   \n",
       "4     129.738                  4.0                           0.562   \n",
       "\n",
       "   song.title  song.year  \n",
       "0           0          0  \n",
       "1           0       1969  \n",
       "2           0          0  \n",
       "3           0       1982  \n",
       "4           0       2007  \n",
       "\n",
       "[5 rows x 35 columns]"
      ]
     },
     "execution_count": 5,
     "metadata": {},
     "output_type": "execute_result"
    }
   ],
   "source": [
    "print(\"First 5 rows: \")\n",
    "musicDF.head()"
   ]
  },
  {
   "cell_type": "code",
   "execution_count": 6,
   "id": "a6927a0c-0ace-4d44-8d50-700828d3d5b5",
   "metadata": {},
   "outputs": [
    {
     "name": "stdout",
     "output_type": "stream",
     "text": [
      "Last 5 rows: \n"
     ]
    },
    {
     "data": {
      "text/html": [
       "<div>\n",
       "<style scoped>\n",
       "    .dataframe tbody tr th:only-of-type {\n",
       "        vertical-align: middle;\n",
       "    }\n",
       "\n",
       "    .dataframe tbody tr th {\n",
       "        vertical-align: top;\n",
       "    }\n",
       "\n",
       "    .dataframe thead th {\n",
       "        text-align: right;\n",
       "    }\n",
       "</style>\n",
       "<table border=\"1\" class=\"dataframe\">\n",
       "  <thead>\n",
       "    <tr style=\"text-align: right;\">\n",
       "      <th></th>\n",
       "      <th>artist.familiarity</th>\n",
       "      <th>artist.hotttnesss</th>\n",
       "      <th>artist.id</th>\n",
       "      <th>artist.latitude</th>\n",
       "      <th>artist.location</th>\n",
       "      <th>artist.longitude</th>\n",
       "      <th>artist.name</th>\n",
       "      <th>artist.similar</th>\n",
       "      <th>artist.terms</th>\n",
       "      <th>artist.terms_freq</th>\n",
       "      <th>...</th>\n",
       "      <th>song.mode</th>\n",
       "      <th>song.mode_confidence</th>\n",
       "      <th>song.start_of_fade_out</th>\n",
       "      <th>song.tatums_confidence</th>\n",
       "      <th>song.tatums_start</th>\n",
       "      <th>song.tempo</th>\n",
       "      <th>song.time_signature</th>\n",
       "      <th>song.time_signature_confidence</th>\n",
       "      <th>song.title</th>\n",
       "      <th>song.year</th>\n",
       "    </tr>\n",
       "  </thead>\n",
       "  <tbody>\n",
       "    <tr>\n",
       "      <th>9995</th>\n",
       "      <td>0.722571</td>\n",
       "      <td>0.499826</td>\n",
       "      <td>AR4C6V01187FB3BAF4</td>\n",
       "      <td>39.55792</td>\n",
       "      <td>0</td>\n",
       "      <td>-7.84481</td>\n",
       "      <td>Moonspell</td>\n",
       "      <td>0.0</td>\n",
       "      <td>sympho black metal</td>\n",
       "      <td>0.999765</td>\n",
       "      <td>...</td>\n",
       "      <td>1</td>\n",
       "      <td>0.540</td>\n",
       "      <td>386.194</td>\n",
       "      <td>0.224</td>\n",
       "      <td>0.22262</td>\n",
       "      <td>140.185</td>\n",
       "      <td>4.0</td>\n",
       "      <td>0.099</td>\n",
       "      <td>0</td>\n",
       "      <td>1998</td>\n",
       "    </tr>\n",
       "    <tr>\n",
       "      <th>9996</th>\n",
       "      <td>0.511663</td>\n",
       "      <td>0.409779</td>\n",
       "      <td>AR9JLBU1187B9AAEC4</td>\n",
       "      <td>-33.96243</td>\n",
       "      <td>0</td>\n",
       "      <td>25.62326</td>\n",
       "      <td>Danny Williams</td>\n",
       "      <td>0.0</td>\n",
       "      <td>ballad</td>\n",
       "      <td>0.915417</td>\n",
       "      <td>...</td>\n",
       "      <td>1</td>\n",
       "      <td>0.398</td>\n",
       "      <td>163.463</td>\n",
       "      <td>0.604</td>\n",
       "      <td>0.07692</td>\n",
       "      <td>77.072</td>\n",
       "      <td>3.0</td>\n",
       "      <td>0.597</td>\n",
       "      <td>0</td>\n",
       "      <td>1998</td>\n",
       "    </tr>\n",
       "    <tr>\n",
       "      <th>9997</th>\n",
       "      <td>0.433508</td>\n",
       "      <td>0.289903</td>\n",
       "      <td>ARS1DCR1187B9A4A56</td>\n",
       "      <td>0.00000</td>\n",
       "      <td>0</td>\n",
       "      <td>0.00000</td>\n",
       "      <td>Winston Reedy</td>\n",
       "      <td>0.0</td>\n",
       "      <td>lovers rock</td>\n",
       "      <td>0.960115</td>\n",
       "      <td>...</td>\n",
       "      <td>1</td>\n",
       "      <td>0.565</td>\n",
       "      <td>186.015</td>\n",
       "      <td>1.000</td>\n",
       "      <td>0.27924</td>\n",
       "      <td>118.123</td>\n",
       "      <td>4.0</td>\n",
       "      <td>0.205</td>\n",
       "      <td>0</td>\n",
       "      <td>0</td>\n",
       "    </tr>\n",
       "    <tr>\n",
       "      <th>9998</th>\n",
       "      <td>0.334457</td>\n",
       "      <td>0.216829</td>\n",
       "      <td>ARAGMIV11F4C843F78</td>\n",
       "      <td>0.00000</td>\n",
       "      <td>0</td>\n",
       "      <td>0.00000</td>\n",
       "      <td>Myrick \"Freeze\" Guillory</td>\n",
       "      <td>0.0</td>\n",
       "      <td>zydeco</td>\n",
       "      <td>1.000000</td>\n",
       "      <td>...</td>\n",
       "      <td>1</td>\n",
       "      <td>0.503</td>\n",
       "      <td>300.826</td>\n",
       "      <td>0.421</td>\n",
       "      <td>0.28192</td>\n",
       "      <td>137.663</td>\n",
       "      <td>4.0</td>\n",
       "      <td>0.000</td>\n",
       "      <td>0</td>\n",
       "      <td>0</td>\n",
       "    </tr>\n",
       "    <tr>\n",
       "      <th>9999</th>\n",
       "      <td>0.609182</td>\n",
       "      <td>0.509243</td>\n",
       "      <td>ARYXOV81187B99831D</td>\n",
       "      <td>0.00000</td>\n",
       "      <td>0</td>\n",
       "      <td>0.00000</td>\n",
       "      <td>Seventh Day Slumber</td>\n",
       "      <td>0.0</td>\n",
       "      <td>christian rock</td>\n",
       "      <td>0.926220</td>\n",
       "      <td>...</td>\n",
       "      <td>0</td>\n",
       "      <td>0.406</td>\n",
       "      <td>193.167</td>\n",
       "      <td>0.710</td>\n",
       "      <td>0.20535</td>\n",
       "      <td>150.575</td>\n",
       "      <td>4.0</td>\n",
       "      <td>0.317</td>\n",
       "      <td>0</td>\n",
       "      <td>2005</td>\n",
       "    </tr>\n",
       "  </tbody>\n",
       "</table>\n",
       "<p>5 rows × 35 columns</p>\n",
       "</div>"
      ],
      "text/plain": [
       "      artist.familiarity  artist.hotttnesss           artist.id  \\\n",
       "9995            0.722571           0.499826  AR4C6V01187FB3BAF4   \n",
       "9996            0.511663           0.409779  AR9JLBU1187B9AAEC4   \n",
       "9997            0.433508           0.289903  ARS1DCR1187B9A4A56   \n",
       "9998            0.334457           0.216829  ARAGMIV11F4C843F78   \n",
       "9999            0.609182           0.509243  ARYXOV81187B99831D   \n",
       "\n",
       "      artist.latitude  artist.location  artist.longitude  \\\n",
       "9995         39.55792                0          -7.84481   \n",
       "9996        -33.96243                0          25.62326   \n",
       "9997          0.00000                0           0.00000   \n",
       "9998          0.00000                0           0.00000   \n",
       "9999          0.00000                0           0.00000   \n",
       "\n",
       "                   artist.name  artist.similar        artist.terms  \\\n",
       "9995                 Moonspell             0.0  sympho black metal   \n",
       "9996            Danny Williams             0.0              ballad   \n",
       "9997             Winston Reedy             0.0         lovers rock   \n",
       "9998  Myrick \"Freeze\" Guillory             0.0              zydeco   \n",
       "9999       Seventh Day Slumber             0.0      christian rock   \n",
       "\n",
       "      artist.terms_freq  ...  song.mode  song.mode_confidence  \\\n",
       "9995           0.999765  ...          1                 0.540   \n",
       "9996           0.915417  ...          1                 0.398   \n",
       "9997           0.960115  ...          1                 0.565   \n",
       "9998           1.000000  ...          1                 0.503   \n",
       "9999           0.926220  ...          0                 0.406   \n",
       "\n",
       "      song.start_of_fade_out  song.tatums_confidence  song.tatums_start  \\\n",
       "9995                 386.194                   0.224            0.22262   \n",
       "9996                 163.463                   0.604            0.07692   \n",
       "9997                 186.015                   1.000            0.27924   \n",
       "9998                 300.826                   0.421            0.28192   \n",
       "9999                 193.167                   0.710            0.20535   \n",
       "\n",
       "      song.tempo  song.time_signature  song.time_signature_confidence  \\\n",
       "9995     140.185                  4.0                           0.099   \n",
       "9996      77.072                  3.0                           0.597   \n",
       "9997     118.123                  4.0                           0.205   \n",
       "9998     137.663                  4.0                           0.000   \n",
       "9999     150.575                  4.0                           0.317   \n",
       "\n",
       "      song.title  song.year  \n",
       "9995           0       1998  \n",
       "9996           0       1998  \n",
       "9997           0          0  \n",
       "9998           0          0  \n",
       "9999           0       2005  \n",
       "\n",
       "[5 rows x 35 columns]"
      ]
     },
     "execution_count": 6,
     "metadata": {},
     "output_type": "execute_result"
    }
   ],
   "source": [
    "print(\"Last 5 rows: \")\n",
    "musicDF.tail()"
   ]
  },
  {
   "cell_type": "code",
   "execution_count": 7,
   "id": "52391b8a-9564-455a-a77d-c2e2fcb464cf",
   "metadata": {},
   "outputs": [
    {
     "name": "stdout",
     "output_type": "stream",
     "text": [
      "Column names\n"
     ]
    },
    {
     "data": {
      "text/plain": [
       "Index(['artist.familiarity', 'artist.hotttnesss', 'artist.id',\n",
       "       'artist.latitude', 'artist.location', 'artist.longitude', 'artist.name',\n",
       "       'artist.similar', 'artist.terms', 'artist.terms_freq', 'release.id',\n",
       "       'release.name', 'song.artist_mbtags', 'song.artist_mbtags_count',\n",
       "       'song.bars_confidence', 'song.bars_start', 'song.beats_confidence',\n",
       "       'song.beats_start', 'song.duration', 'song.end_of_fade_in',\n",
       "       'song.hotttnesss', 'song.id', 'song.key', 'song.key_confidence',\n",
       "       'song.loudness', 'song.mode', 'song.mode_confidence',\n",
       "       'song.start_of_fade_out', 'song.tatums_confidence', 'song.tatums_start',\n",
       "       'song.tempo', 'song.time_signature', 'song.time_signature_confidence',\n",
       "       'song.title', 'song.year'],\n",
       "      dtype='object')"
      ]
     },
     "execution_count": 7,
     "metadata": {},
     "output_type": "execute_result"
    }
   ],
   "source": [
    "print(\"Column names\")\n",
    "musicDF.columns"
   ]
  },
  {
   "cell_type": "code",
   "execution_count": 8,
   "id": "df860d89-cb9a-4908-bf02-62809bea78b4",
   "metadata": {},
   "outputs": [
    {
     "data": {
      "text/html": [
       "<div>\n",
       "<style scoped>\n",
       "    .dataframe tbody tr th:only-of-type {\n",
       "        vertical-align: middle;\n",
       "    }\n",
       "\n",
       "    .dataframe tbody tr th {\n",
       "        vertical-align: top;\n",
       "    }\n",
       "\n",
       "    .dataframe thead th {\n",
       "        text-align: right;\n",
       "    }\n",
       "</style>\n",
       "<table border=\"1\" class=\"dataframe\">\n",
       "  <thead>\n",
       "    <tr style=\"text-align: right;\">\n",
       "      <th></th>\n",
       "      <th>artist.familiarity</th>\n",
       "      <th>artist.hotttnesss</th>\n",
       "      <th>artist.latitude</th>\n",
       "      <th>artist.location</th>\n",
       "      <th>artist.longitude</th>\n",
       "      <th>artist.similar</th>\n",
       "      <th>artist.terms_freq</th>\n",
       "      <th>release.id</th>\n",
       "      <th>release.name</th>\n",
       "      <th>song.artist_mbtags</th>\n",
       "      <th>...</th>\n",
       "      <th>song.mode</th>\n",
       "      <th>song.mode_confidence</th>\n",
       "      <th>song.start_of_fade_out</th>\n",
       "      <th>song.tatums_confidence</th>\n",
       "      <th>song.tatums_start</th>\n",
       "      <th>song.tempo</th>\n",
       "      <th>song.time_signature</th>\n",
       "      <th>song.time_signature_confidence</th>\n",
       "      <th>song.title</th>\n",
       "      <th>song.year</th>\n",
       "    </tr>\n",
       "  </thead>\n",
       "  <tbody>\n",
       "    <tr>\n",
       "      <th>count</th>\n",
       "      <td>10000.000000</td>\n",
       "      <td>10000.000000</td>\n",
       "      <td>10000.000000</td>\n",
       "      <td>10000.000</td>\n",
       "      <td>10000.000000</td>\n",
       "      <td>10000.0</td>\n",
       "      <td>1.000000e+04</td>\n",
       "      <td>10000.000000</td>\n",
       "      <td>10000.000000</td>\n",
       "      <td>10000.000000</td>\n",
       "      <td>...</td>\n",
       "      <td>10000.000000</td>\n",
       "      <td>10000.000000</td>\n",
       "      <td>10000.000000</td>\n",
       "      <td>10000.000000</td>\n",
       "      <td>10000.000000</td>\n",
       "      <td>10000.000000</td>\n",
       "      <td>10000.000000</td>\n",
       "      <td>10000.000000</td>\n",
       "      <td>10000.000000</td>\n",
       "      <td>10000.000000</td>\n",
       "    </tr>\n",
       "    <tr>\n",
       "      <th>mean</th>\n",
       "      <td>0.565230</td>\n",
       "      <td>0.385552</td>\n",
       "      <td>13.904283</td>\n",
       "      <td>0.078</td>\n",
       "      <td>-23.923863</td>\n",
       "      <td>0.0</td>\n",
       "      <td>2.248903e+02</td>\n",
       "      <td>371024.058400</td>\n",
       "      <td>23.096000</td>\n",
       "      <td>0.000033</td>\n",
       "      <td>...</td>\n",
       "      <td>0.691000</td>\n",
       "      <td>0.477765</td>\n",
       "      <td>229.883436</td>\n",
       "      <td>0.507875</td>\n",
       "      <td>0.299886</td>\n",
       "      <td>122.900913</td>\n",
       "      <td>3.564443</td>\n",
       "      <td>0.599785</td>\n",
       "      <td>10.011400</td>\n",
       "      <td>934.704600</td>\n",
       "    </tr>\n",
       "    <tr>\n",
       "      <th>std</th>\n",
       "      <td>0.160528</td>\n",
       "      <td>0.143647</td>\n",
       "      <td>20.356379</td>\n",
       "      <td>7.800</td>\n",
       "      <td>43.723359</td>\n",
       "      <td>0.0</td>\n",
       "      <td>2.239216e+04</td>\n",
       "      <td>236777.828209</td>\n",
       "      <td>1322.901526</td>\n",
       "      <td>0.003330</td>\n",
       "      <td>...</td>\n",
       "      <td>0.462104</td>\n",
       "      <td>0.191269</td>\n",
       "      <td>112.024303</td>\n",
       "      <td>0.332357</td>\n",
       "      <td>0.510925</td>\n",
       "      <td>35.204746</td>\n",
       "      <td>1.266620</td>\n",
       "      <td>8.991567</td>\n",
       "      <td>945.486852</td>\n",
       "      <td>996.650657</td>\n",
       "    </tr>\n",
       "    <tr>\n",
       "      <th>min</th>\n",
       "      <td>0.000000</td>\n",
       "      <td>0.000000</td>\n",
       "      <td>-41.280540</td>\n",
       "      <td>0.000</td>\n",
       "      <td>-162.436500</td>\n",
       "      <td>0.0</td>\n",
       "      <td>0.000000e+00</td>\n",
       "      <td>0.000000</td>\n",
       "      <td>0.000000</td>\n",
       "      <td>0.000000</td>\n",
       "      <td>...</td>\n",
       "      <td>0.000000</td>\n",
       "      <td>0.000000</td>\n",
       "      <td>-21.394000</td>\n",
       "      <td>0.000000</td>\n",
       "      <td>0.000000</td>\n",
       "      <td>0.000000</td>\n",
       "      <td>0.000000</td>\n",
       "      <td>0.000000</td>\n",
       "      <td>0.000000</td>\n",
       "      <td>0.000000</td>\n",
       "    </tr>\n",
       "    <tr>\n",
       "      <th>25%</th>\n",
       "      <td>0.467570</td>\n",
       "      <td>0.325266</td>\n",
       "      <td>0.000000</td>\n",
       "      <td>0.000</td>\n",
       "      <td>-73.948880</td>\n",
       "      <td>0.0</td>\n",
       "      <td>9.476125e-01</td>\n",
       "      <td>172858.000000</td>\n",
       "      <td>0.000000</td>\n",
       "      <td>0.000000</td>\n",
       "      <td>...</td>\n",
       "      <td>0.000000</td>\n",
       "      <td>0.360000</td>\n",
       "      <td>168.855750</td>\n",
       "      <td>0.237000</td>\n",
       "      <td>0.110692</td>\n",
       "      <td>96.959500</td>\n",
       "      <td>3.000000</td>\n",
       "      <td>0.097750</td>\n",
       "      <td>0.000000</td>\n",
       "      <td>0.000000</td>\n",
       "    </tr>\n",
       "    <tr>\n",
       "      <th>50%</th>\n",
       "      <td>0.563584</td>\n",
       "      <td>0.380742</td>\n",
       "      <td>0.000000</td>\n",
       "      <td>0.000</td>\n",
       "      <td>0.000000</td>\n",
       "      <td>0.0</td>\n",
       "      <td>9.999728e-01</td>\n",
       "      <td>333103.000000</td>\n",
       "      <td>0.000000</td>\n",
       "      <td>0.000000</td>\n",
       "      <td>...</td>\n",
       "      <td>1.000000</td>\n",
       "      <td>0.487000</td>\n",
       "      <td>213.864500</td>\n",
       "      <td>0.500000</td>\n",
       "      <td>0.191520</td>\n",
       "      <td>120.156500</td>\n",
       "      <td>4.000000</td>\n",
       "      <td>0.551000</td>\n",
       "      <td>0.000000</td>\n",
       "      <td>0.000000</td>\n",
       "    </tr>\n",
       "    <tr>\n",
       "      <th>75%</th>\n",
       "      <td>0.668020</td>\n",
       "      <td>0.453858</td>\n",
       "      <td>34.419250</td>\n",
       "      <td>0.000</td>\n",
       "      <td>0.000000</td>\n",
       "      <td>0.0</td>\n",
       "      <td>1.000000e+00</td>\n",
       "      <td>573532.500000</td>\n",
       "      <td>0.000000</td>\n",
       "      <td>0.000000</td>\n",
       "      <td>...</td>\n",
       "      <td>1.000000</td>\n",
       "      <td>0.606000</td>\n",
       "      <td>266.274750</td>\n",
       "      <td>0.774250</td>\n",
       "      <td>0.294743</td>\n",
       "      <td>144.006750</td>\n",
       "      <td>4.000000</td>\n",
       "      <td>0.864000</td>\n",
       "      <td>0.000000</td>\n",
       "      <td>2000.000000</td>\n",
       "    </tr>\n",
       "    <tr>\n",
       "      <th>max</th>\n",
       "      <td>1.000000</td>\n",
       "      <td>1.082503</td>\n",
       "      <td>69.651020</td>\n",
       "      <td>780.000</td>\n",
       "      <td>174.767140</td>\n",
       "      <td>0.0</td>\n",
       "      <td>2.239217e+06</td>\n",
       "      <td>823599.000000</td>\n",
       "      <td>85555.000000</td>\n",
       "      <td>0.333000</td>\n",
       "      <td>...</td>\n",
       "      <td>1.000000</td>\n",
       "      <td>1.000000</td>\n",
       "      <td>1813.426000</td>\n",
       "      <td>9.227560</td>\n",
       "      <td>12.245830</td>\n",
       "      <td>262.828000</td>\n",
       "      <td>7.000000</td>\n",
       "      <td>898.891000</td>\n",
       "      <td>94496.000000</td>\n",
       "      <td>2010.000000</td>\n",
       "    </tr>\n",
       "  </tbody>\n",
       "</table>\n",
       "<p>8 rows × 31 columns</p>\n",
       "</div>"
      ],
      "text/plain": [
       "       artist.familiarity  artist.hotttnesss  artist.latitude  \\\n",
       "count        10000.000000       10000.000000     10000.000000   \n",
       "mean             0.565230           0.385552        13.904283   \n",
       "std              0.160528           0.143647        20.356379   \n",
       "min              0.000000           0.000000       -41.280540   \n",
       "25%              0.467570           0.325266         0.000000   \n",
       "50%              0.563584           0.380742         0.000000   \n",
       "75%              0.668020           0.453858        34.419250   \n",
       "max              1.000000           1.082503        69.651020   \n",
       "\n",
       "       artist.location  artist.longitude  artist.similar  artist.terms_freq  \\\n",
       "count        10000.000      10000.000000         10000.0       1.000000e+04   \n",
       "mean             0.078        -23.923863             0.0       2.248903e+02   \n",
       "std              7.800         43.723359             0.0       2.239216e+04   \n",
       "min              0.000       -162.436500             0.0       0.000000e+00   \n",
       "25%              0.000        -73.948880             0.0       9.476125e-01   \n",
       "50%              0.000          0.000000             0.0       9.999728e-01   \n",
       "75%              0.000          0.000000             0.0       1.000000e+00   \n",
       "max            780.000        174.767140             0.0       2.239217e+06   \n",
       "\n",
       "          release.id  release.name  song.artist_mbtags  ...     song.mode  \\\n",
       "count   10000.000000  10000.000000        10000.000000  ...  10000.000000   \n",
       "mean   371024.058400     23.096000            0.000033  ...      0.691000   \n",
       "std    236777.828209   1322.901526            0.003330  ...      0.462104   \n",
       "min         0.000000      0.000000            0.000000  ...      0.000000   \n",
       "25%    172858.000000      0.000000            0.000000  ...      0.000000   \n",
       "50%    333103.000000      0.000000            0.000000  ...      1.000000   \n",
       "75%    573532.500000      0.000000            0.000000  ...      1.000000   \n",
       "max    823599.000000  85555.000000            0.333000  ...      1.000000   \n",
       "\n",
       "       song.mode_confidence  song.start_of_fade_out  song.tatums_confidence  \\\n",
       "count          10000.000000            10000.000000            10000.000000   \n",
       "mean               0.477765              229.883436                0.507875   \n",
       "std                0.191269              112.024303                0.332357   \n",
       "min                0.000000              -21.394000                0.000000   \n",
       "25%                0.360000              168.855750                0.237000   \n",
       "50%                0.487000              213.864500                0.500000   \n",
       "75%                0.606000              266.274750                0.774250   \n",
       "max                1.000000             1813.426000                9.227560   \n",
       "\n",
       "       song.tatums_start    song.tempo  song.time_signature  \\\n",
       "count       10000.000000  10000.000000         10000.000000   \n",
       "mean            0.299886    122.900913             3.564443   \n",
       "std             0.510925     35.204746             1.266620   \n",
       "min             0.000000      0.000000             0.000000   \n",
       "25%             0.110692     96.959500             3.000000   \n",
       "50%             0.191520    120.156500             4.000000   \n",
       "75%             0.294743    144.006750             4.000000   \n",
       "max            12.245830    262.828000             7.000000   \n",
       "\n",
       "       song.time_signature_confidence    song.title     song.year  \n",
       "count                    10000.000000  10000.000000  10000.000000  \n",
       "mean                         0.599785     10.011400    934.704600  \n",
       "std                          8.991567    945.486852    996.650657  \n",
       "min                          0.000000      0.000000      0.000000  \n",
       "25%                          0.097750      0.000000      0.000000  \n",
       "50%                          0.551000      0.000000      0.000000  \n",
       "75%                          0.864000      0.000000   2000.000000  \n",
       "max                        898.891000  94496.000000   2010.000000  \n",
       "\n",
       "[8 rows x 31 columns]"
      ]
     },
     "execution_count": 8,
     "metadata": {},
     "output_type": "execute_result"
    }
   ],
   "source": [
    "musicDF.describe()"
   ]
  },
  {
   "cell_type": "code",
   "execution_count": 9,
   "id": "ed37498a-0b6c-4f94-9367-192393aed132",
   "metadata": {},
   "outputs": [
    {
     "name": "stdout",
     "output_type": "stream",
     "text": [
      "<class 'pandas.core.frame.DataFrame'>\n",
      "RangeIndex: 10000 entries, 0 to 9999\n",
      "Data columns (total 35 columns):\n",
      " #   Column                          Non-Null Count  Dtype  \n",
      "---  ------                          --------------  -----  \n",
      " 0   artist.familiarity              10000 non-null  float64\n",
      " 1   artist.hotttnesss               10000 non-null  float64\n",
      " 2   artist.id                       10000 non-null  object \n",
      " 3   artist.latitude                 10000 non-null  float64\n",
      " 4   artist.location                 10000 non-null  int64  \n",
      " 5   artist.longitude                10000 non-null  float64\n",
      " 6   artist.name                     10000 non-null  object \n",
      " 7   artist.similar                  10000 non-null  float64\n",
      " 8   artist.terms                    9995 non-null   object \n",
      " 9   artist.terms_freq               10000 non-null  float64\n",
      " 10  release.id                      10000 non-null  int64  \n",
      " 11  release.name                    10000 non-null  int64  \n",
      " 12  song.artist_mbtags              10000 non-null  float64\n",
      " 13  song.artist_mbtags_count        10000 non-null  float64\n",
      " 14  song.bars_confidence            10000 non-null  float64\n",
      " 15  song.bars_start                 10000 non-null  float64\n",
      " 16  song.beats_confidence           10000 non-null  float64\n",
      " 17  song.beats_start                10000 non-null  float64\n",
      " 18  song.duration                   10000 non-null  float64\n",
      " 19  song.end_of_fade_in             10000 non-null  float64\n",
      " 20  song.hotttnesss                 10000 non-null  float64\n",
      " 21  song.id                         10000 non-null  object \n",
      " 22  song.key                        10000 non-null  float64\n",
      " 23  song.key_confidence             10000 non-null  float64\n",
      " 24  song.loudness                   10000 non-null  float64\n",
      " 25  song.mode                       10000 non-null  int64  \n",
      " 26  song.mode_confidence            10000 non-null  float64\n",
      " 27  song.start_of_fade_out          10000 non-null  float64\n",
      " 28  song.tatums_confidence          10000 non-null  float64\n",
      " 29  song.tatums_start               10000 non-null  float64\n",
      " 30  song.tempo                      10000 non-null  float64\n",
      " 31  song.time_signature             10000 non-null  float64\n",
      " 32  song.time_signature_confidence  10000 non-null  float64\n",
      " 33  song.title                      10000 non-null  int64  \n",
      " 34  song.year                       10000 non-null  int64  \n",
      "dtypes: float64(25), int64(6), object(4)\n",
      "memory usage: 2.7+ MB\n"
     ]
    }
   ],
   "source": [
    "musicDF.info()"
   ]
  },
  {
   "cell_type": "code",
   "execution_count": 10,
   "id": "fc675d14-e372-4194-b1d1-180c1c8a6bd3",
   "metadata": {},
   "outputs": [
    {
     "data": {
      "image/png": "[encoded data removed]",
      "text/plain": [
       "<Figure size 432x288 with 1 Axes>"
      ]
     },
     "metadata": {
      "needs_background": "light"
     },
     "output_type": "display_data"
    }
   ],
   "source": [
    "musicDF.plot(kind='scatter',x='song.loudness',y='song.hotttnesss');\n",
    "# This scatter has a very undtraditional shape but we think it is important to notice that there seems to be some\n",
    "# slight hinting towards higher values of song.loudness associated with popularity. As you can see there are songs\n",
    "# that have the same loudness as others but are not nearly as popular so loudness isn't the only characteristic\n",
    "# we can base our analysis off of but for the most part, the more popular songs tend to have a loudness rating\n",
    "# from [-10,0]"
   ]
  },
  {
   "cell_type": "code",
   "execution_count": 11,
   "id": "b0af8b98-3f00-4b2d-b18f-2c7ebe56fe70",
   "metadata": {},
   "outputs": [
    {
     "data": {
      "text/plain": [
       "<AxesSubplot:>"
      ]
     },
     "execution_count": 11,
     "metadata": {},
     "output_type": "execute_result"
    },
    {
     "data": {
      "image/png": "[encoded data removed]",
      "text/plain": [
       "<Figure size 432x288 with 1 Axes>"
      ]
     },
     "metadata": {
      "needs_background": "light"
     },
     "output_type": "display_data"
    }
   ],
   "source": [
    "musicDF['song.hotttnesss'].plot(kind='box')\n",
    "#In this box plot, it appears that the median measurement of song popularity lies at 0,\n",
    "#and the minimum lies at the first quartile, -1. The third quartile is seen at about 0.35,\n",
    "#and the maximum is 1. It seems as though the first quartile has a larger range than the third quartile.\n",
    "#Outliers are expected to be seen in the first quartile range and also at the maximum."
   ]
  },
  {
   "cell_type": "code",
   "execution_count": 12,
   "id": "8021aa19-0dc5-465c-9479-64ba3fa16430",
   "metadata": {},
   "outputs": [
    {
     "data": {
      "text/plain": [
       "Text(0.5, 1.0, 'Linear Regression of song tempo in comparison to artist hotttness rating')"
      ]
     },
     "execution_count": 12,
     "metadata": {},
     "output_type": "execute_result"
    },
    {
     "data": {
      "image/png": "[encoded data removed]",
      "text/plain": [
       "<Figure size 432x288 with 1 Axes>"
      ]
     },
     "metadata": {
      "needs_background": "light"
     },
     "output_type": "display_data"
    }
   ],
   "source": [
    "from sklearn.linear_model import LinearRegression\n",
    "import matplotlib.pyplot as plt\n",
    "X = musicDF[['artist.hotttnesss']]\n",
    "y = musicDF['song.tempo']\n",
    "reg = LinearRegression().fit(X, y)\n",
    "ytrain = reg.intercept_ + reg.coef_ * X\n",
    "plt.plot(X,y,'ro',X,ytrain,'b-')\n",
    "plt.title(\"Linear Regression of song tempo in comparison to artist hotttness rating\")\n",
    "# We ran a linear regression comparing the correlation between artist hotttnesss and the tempo of a song.\n",
    "# Depicted below we see that the fitting line almost has a slope of 0 and we can see that the surrounding\n",
    "# points don't really trend to have y=x or y=-x shape making it difficult to make the conclusion that \n",
    "# a songs tempo influences the artist hotttness rating that much. Almost resembling a constant y=C shape\n",
    "# makes us think that we have to do some sort of analysis with a combination of different song characteristics\n",
    "# to find a more convincing correlation. "
   ]
  },
  {
   "cell_type": "code",
   "execution_count": 13,
   "id": "22bc6a0a-b23c-401f-9c7e-7769ea5173ea",
   "metadata": {},
   "outputs": [
    {
     "data": {
      "text/plain": [
       "<AxesSubplot:title={'center':'song tempo vs. arist name'}, xlabel='artist.name', ylabel='song tempo'>"
      ]
     },
     "execution_count": 13,
     "metadata": {},
     "output_type": "execute_result"
    },
    {
     "data": {
      "image/png": "[encoded data removed]",
      "text/plain": [
       "<Figure size 864x360 with 1 Axes>"
      ]
     },
     "metadata": {
      "needs_background": "light"
     },
     "output_type": "display_data"
    }
   ],
   "source": [
    "tempoDF = musicDF.sort_values(by='song.tempo', ascending=False).reset_index()\n",
    "barData = tempoDF.loc[0:50,['song.tempo','artist.name']]\n",
    "barData.plot(kind='bar',\n",
    "             x='artist.name',\n",
    "             y='song.tempo',\n",
    "             figsize=(12,5),\n",
    "            ylabel=\"song tempo\",\n",
    "            title=\"song tempo vs. arist name\")\n",
    "# We first sorted the songs by tempo (a little over 250 seems to be the fastest song that this dataset has).\n",
    "# Then we made a bar plot showing the artist's name assoicated with the fastest song. This information should be \n",
    "# used in combination with the rest of the data as we have artists with the fastest songs and we want to see \n",
    "# if maybe there is some correlation between the speed of a song and the overall popularity ranking. For additional\n",
    "# analysis we will run tests on the artists themselves to see if they are popular."
   ]
  },
  {
   "cell_type": "code",
   "execution_count": 15,
   "id": "a7dbd742-a913-4340-8cd8-c9889bc6911e",
   "metadata": {},
   "outputs": [
    {
     "data": {
      "text/plain": [
       "<AxesSubplot:xlabel='song.hotttnesss', ylabel='song.duration'>"
      ]
     },
     "execution_count": 15,
     "metadata": {},
     "output_type": "execute_result"
    },
    {
     "data": {
      "image/png": "[encoded data removed]",
      "text/plain": [
       "<Figure size 432x288 with 1 Axes>"
      ]
     },
     "metadata": {
      "needs_background": "light"
     },
     "output_type": "display_data"
    }
   ],
   "source": [
    "musicDF.plot(kind='scatter', x='song.hotttnesss', y='song.duration', color='skyblue')"
   ]
  },
  {
   "cell_type": "code",
   "execution_count": 18,
   "id": "91d51428-4784-4034-b4a7-bdaa7dd62ed1",
   "metadata": {},
   "outputs": [],
   "source": [
    "musicDF['song.hotttnesss'] \n",
    "music_df_song_h= musicDF[musicDF['song.hotttnesss'] > 0.0]"
   ]
  },
  {
   "cell_type": "code",
   "execution_count": 19,
   "id": "825cb353-6252-4a8a-a818-3a5566807b08",
   "metadata": {},
   "outputs": [
    {
     "data": {
      "text/plain": [
       "<AxesSubplot:xlabel='song.hotttnesss', ylabel='song.duration'>"
      ]
     },
     "execution_count": 19,
     "metadata": {},
     "output_type": "execute_result"
    },
    {
     "data": {
      "image/png": "[encoded data removed]",
      "text/plain": [
       "<Figure size 432x288 with 1 Axes>"
      ]
     },
     "metadata": {
      "needs_background": "light"
     },
     "output_type": "display_data"
    }
   ],
   "source": [
    "music_df_song_h.plot(kind='scatter', x='song.hotttnesss', y='song.duration', color='deepskyblue')"
   ]
  },
  {
   "cell_type": "code",
   "execution_count": 20,
   "id": "340079a3-6886-4415-a78b-5e64d917b162",
   "metadata": {},
   "outputs": [
    {
     "data": {
      "text/plain": [
       "0       0.401998\n",
       "1       0.417500\n",
       "2       0.343428\n",
       "3       0.454231\n",
       "4       0.401724\n",
       "          ...   \n",
       "9995    0.499826\n",
       "9996    0.409779\n",
       "9997    0.289903\n",
       "9998    0.216829\n",
       "9999    0.509243\n",
       "Name: artist.hotttnesss, Length: 10000, dtype: float64"
      ]
     },
     "execution_count": 20,
     "metadata": {},
     "output_type": "execute_result"
    }
   ],
   "source": [
    "musicDF['artist.hotttnesss'] "
   ]
  },
  {
   "cell_type": "code",
   "execution_count": 21,
   "id": "8fbbb438-bc66-4448-b440-a0f58cbdb2b5",
   "metadata": {},
   "outputs": [
    {
     "data": {
      "text/plain": [
       "<AxesSubplot:xlabel='artist.hotttnesss', ylabel='song.duration'>"
      ]
     },
     "execution_count": 21,
     "metadata": {},
     "output_type": "execute_result"
    },
    {
     "data": {
      "image/png": "[encoded data removed]",
      "text/plain": [
       "<Figure size 432x288 with 1 Axes>"
      ]
     },
     "metadata": {
      "needs_background": "light"
     },
     "output_type": "display_data"
    }
   ],
   "source": [
    "music_df_song_h.plot(kind='scatter', x='artist.hotttnesss', y='song.duration', color='teal')"
   ]
  },
  {
   "cell_type": "code",
   "execution_count": null,
   "id": "ef751882-4d05-4764-af55-ecd0f570a62c",
   "metadata": {},
   "outputs": [],
   "source": []
  }
 ],
 "metadata": {
  "kernelspec": {
   "display_name": "Python 3 (ipykernel)",
   "language": "python",
   "name": "python3"
  },
  "language_info": {
   "codemirror_mode": {
    "name": "ipython",
    "version": 3
   },
   "file_extension": ".py",
   "mimetype": "text/x-python",
   "name": "python",
   "nbconvert_exporter": "python",
   "pygments_lexer": "ipython3",
   "version": "3.9.6"
  }
 },
 "nbformat": 4,
 "nbformat_minor": 5
}
